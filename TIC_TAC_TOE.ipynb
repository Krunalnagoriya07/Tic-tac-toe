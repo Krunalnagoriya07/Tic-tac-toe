{
 "cells": [
  {
   "cell_type": "code",
   "execution_count": 2,
   "metadata": {
    "scrolled": true
   },
   "outputs": [
    {
     "name": "stdout",
     "output_type": "stream",
     "text": [
      "Welcome to Tic Tac Toe!\n",
      "\n",
      "0 | 1 | 2\n",
      "----------\n",
      "3 | 4 | 5\n",
      "----------\n",
      "6 | 7 | 8\n",
      "player1 do you want \"X\" or \"O\"?\n",
      "q\n"
     ]
    },
    {
     "ename": "UnboundLocalError",
     "evalue": "local variable 'player2' referenced before assignment",
     "output_type": "error",
     "traceback": [
      "\u001b[1;31m---------------------------------------------------------------------------\u001b[0m",
      "\u001b[1;31mUnboundLocalError\u001b[0m                         Traceback (most recent call last)",
      "\u001b[1;32m<ipython-input-2-9fe2ef2a7bee>\u001b[0m in \u001b[0;36m<module>\u001b[1;34m\u001b[0m\n\u001b[0;32m     59\u001b[0m \u001b[1;33m\u001b[0m\u001b[0m\n\u001b[0;32m     60\u001b[0m \u001b[1;33m\u001b[0m\u001b[0m\n\u001b[1;32m---> 61\u001b[1;33m \u001b[0mmain\u001b[0m\u001b[1;33m(\u001b[0m\u001b[1;33m)\u001b[0m\u001b[1;33m\u001b[0m\u001b[1;33m\u001b[0m\u001b[0m\n\u001b[0m",
      "\u001b[1;32m<ipython-input-2-9fe2ef2a7bee>\u001b[0m in \u001b[0;36mmain\u001b[1;34m()\u001b[0m\n\u001b[0;32m     48\u001b[0m \u001b[1;33m\u001b[0m\u001b[0m\n\u001b[0;32m     49\u001b[0m \u001b[1;32mdef\u001b[0m \u001b[0mmain\u001b[0m\u001b[1;33m(\u001b[0m\u001b[1;33m)\u001b[0m\u001b[1;33m:\u001b[0m\u001b[1;33m\u001b[0m\u001b[1;33m\u001b[0m\u001b[0m\n\u001b[1;32m---> 50\u001b[1;33m     \u001b[0mq\u001b[0m \u001b[1;33m=\u001b[0m \u001b[0minstruction\u001b[0m\u001b[1;33m(\u001b[0m\u001b[1;33m)\u001b[0m\u001b[1;33m\u001b[0m\u001b[1;33m\u001b[0m\u001b[0m\n\u001b[0m\u001b[0;32m     51\u001b[0m \u001b[1;33m\u001b[0m\u001b[0m\n\u001b[0;32m     52\u001b[0m     \u001b[0mprint\u001b[0m\u001b[1;33m(\u001b[0m\u001b[1;34m'Player1 have selected:{} and Player2 have selected:{}'\u001b[0m\u001b[1;33m.\u001b[0m\u001b[0mformat\u001b[0m\u001b[1;33m(\u001b[0m\u001b[0mq\u001b[0m\u001b[1;33m[\u001b[0m\u001b[1;36m0\u001b[0m\u001b[1;33m]\u001b[0m\u001b[1;33m,\u001b[0m\u001b[0mq\u001b[0m\u001b[1;33m[\u001b[0m\u001b[1;36m1\u001b[0m\u001b[1;33m]\u001b[0m\u001b[1;33m)\u001b[0m\u001b[1;33m)\u001b[0m\u001b[1;33m\u001b[0m\u001b[1;33m\u001b[0m\u001b[0m\n",
      "\u001b[1;32m<ipython-input-2-9fe2ef2a7bee>\u001b[0m in \u001b[0;36minstruction\u001b[1;34m()\u001b[0m\n\u001b[0;32m     15\u001b[0m         \u001b[0mplayer2\u001b[0m \u001b[1;33m=\u001b[0m \u001b[0mplayer2\u001b[0m\u001b[1;33m.\u001b[0m\u001b[0mupper\u001b[0m\u001b[1;33m(\u001b[0m\u001b[1;33m)\u001b[0m\u001b[1;33m\u001b[0m\u001b[1;33m\u001b[0m\u001b[0m\n\u001b[0;32m     16\u001b[0m \u001b[1;33m\u001b[0m\u001b[0m\n\u001b[1;32m---> 17\u001b[1;33m     \u001b[1;32mreturn\u001b[0m \u001b[0mplayer1\u001b[0m\u001b[1;33m,\u001b[0m\u001b[0mplayer2\u001b[0m\u001b[1;33m\u001b[0m\u001b[1;33m\u001b[0m\u001b[0m\n\u001b[0m\u001b[0;32m     18\u001b[0m \u001b[1;33m\u001b[0m\u001b[0m\n\u001b[0;32m     19\u001b[0m \u001b[1;33m\u001b[0m\u001b[0m\n",
      "\u001b[1;31mUnboundLocalError\u001b[0m: local variable 'player2' referenced before assignment"
     ]
    }
   ],
   "source": [
    "board = [0,1,2,3,4,5,6,7,8]\n",
    "\n",
    "def instruction():\n",
    "    print('Welcome to Tic Tac Toe!\\n')\n",
    "    display_board(board)\n",
    "    \n",
    "    player1 = str(input('player1 do you want \"X\" or \"O\"?\\n'))\n",
    "    player1 = player1.upper()\n",
    "    while(player1  == 'X' or player1 == 'O'):\n",
    "        if player1 == 'X':\n",
    "            player2 = 'O'\n",
    "        else:\n",
    "            player2 = 'X'\n",
    "            player1 = 'o'\n",
    "        player2 = player2.upper()\n",
    "    \n",
    "    return player1,player2\n",
    "    \n",
    "\n",
    "def display_board(board):\n",
    "    print(board[0], \"|\" , board[1] , \"|\" , board[2])\n",
    "    print(\"----------\")\n",
    "    print(board[3] , \"|\" , board[4] , \"|\" , board[5])\n",
    "    print(\"----------\")\n",
    "    print(board[6] , \"|\" , board[7] , \"|\" , board[8])\n",
    "    \n",
    "def player1in(player1):\n",
    "    userInput = input(\"Type an integer between 0 up to 8 to indiciate where you want to move: \")\n",
    "    userInput = int(userInput)\n",
    "    if userInput < 0 or userInput > 8 or board[userInput] == \"X\" or board[userInput] == \"o\":\n",
    "        print(\"Wrong input! You cannot move there! \")\n",
    "    else:\n",
    "        board[userInput] = player1\n",
    "\n",
    "    display_board(board)\n",
    "    print('\\n')\n",
    "\n",
    "def player2in(player2):\n",
    "    userInput = input(\"Type an integer between 0 up to 8 to indiciate where you want to move: \")\n",
    "    userInput = int(userInput)\n",
    "    if userInput < 0 or userInput > 8 or board[userInput] == \"X\" or board[userInput] == \"o\":\n",
    "        print(\"Wrong input! You cannot move there! \")\n",
    "    else:\n",
    "        board[userInput] = player2\n",
    "\n",
    "    display_board(board)\n",
    "    print('\\n')\n",
    "    \n",
    "def main():\n",
    "    q = instruction()\n",
    "    \n",
    "    print('Player1 have selected:{} and Player2 have selected:{}'.format(q[0],q[1]))\n",
    "    print('Player1 will go first.')\n",
    "    ready = str(input('are you ready to play? Enter Yes or NO:\\n'))\n",
    "    ready = ready.upper()\n",
    "    while(ready == 'YES'):\n",
    "        player1in(q[0])\n",
    "        player2in(q[1])\n",
    "        \n",
    "\n",
    "main()"
   ]
  },
  {
   "cell_type": "code",
   "execution_count": null,
   "metadata": {},
   "outputs": [],
   "source": []
  },
  {
   "cell_type": "code",
   "execution_count": 3,
   "metadata": {},
   "outputs": [],
   "source": [
    "def instruction():\n",
    "    print('Welcome to Tic Tac Toe!\\n')\n",
    "    display_board(board)\n",
    "    \n",
    "    player1 = str(input('player1 do you want \"X\" or \"O\"?\\n'))\n",
    "    player1 = player1.upper()\n",
    "    while(player1  == 'X' or player1 == 'O'):\n",
    "        if player1 == 'X':\n",
    "            player2 = 'O'\n",
    "        else:\n",
    "            player2 = 'X'\n",
    "            player1 = 'o'\n",
    "        player2 = player2.upper()\n",
    "    \n",
    "    return player1,player2"
   ]
  },
  {
   "cell_type": "code",
   "execution_count": null,
   "metadata": {},
   "outputs": [
    {
     "name": "stdout",
     "output_type": "stream",
     "text": [
      "Welcome to Tic Tac Toe!\n",
      "\n",
      "0 | 1 | 2\n",
      "----------\n",
      "3 | 4 | 5\n",
      "----------\n",
      "6 | 7 | 8\n",
      "player1 do you want \"X\" or \"O\"?\n",
      "x\n"
     ]
    }
   ],
   "source": [
    "instruction()"
   ]
  },
  {
   "cell_type": "code",
   "execution_count": null,
   "metadata": {},
   "outputs": [],
   "source": [
    "player1"
   ]
  },
  {
   "cell_type": "code",
   "execution_count": null,
   "metadata": {},
   "outputs": [],
   "source": []
  }
 ],
 "metadata": {
  "kernelspec": {
   "display_name": "Python 3",
   "language": "python",
   "name": "python3"
  },
  "language_info": {
   "codemirror_mode": {
    "name": "ipython",
    "version": 3
   },
   "file_extension": ".py",
   "mimetype": "text/x-python",
   "name": "python",
   "nbconvert_exporter": "python",
   "pygments_lexer": "ipython3",
   "version": "3.7.6"
  }
 },
 "nbformat": 4,
 "nbformat_minor": 4
}
